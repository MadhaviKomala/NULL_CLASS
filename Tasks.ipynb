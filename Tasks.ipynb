{
 "cells": [
  {
   "attachments": {},
   "cell_type": "markdown",
   "metadata": {},
   "source": [
    "TRAINING TASKS:-"
   ]
  },
  {
   "cell_type": "code",
   "execution_count": 1,
   "metadata": {},
   "outputs": [],
   "source": [
    "import pandas as pd\n",
    "import numpy as np\n",
    "import plotly.express as px\n",
    "import plotly.io as pio\n",
    "from sklearn.model_selection import train_test_split\n",
    "from sklearn.ensemble import RandomForestRegressor\n",
    "from sklearn.metrics import mean_squared_error, r2_score\n",
    "from nltk.sentiment.vader import SentimentIntensityAnalyzer\n",
    "import nltk\n",
    "import webbrowser\n",
    "import os\n"
   ]
  },
  {
   "cell_type": "code",
   "execution_count": 2,
   "metadata": {},
   "outputs": [
    {
     "name": "stderr",
     "output_type": "stream",
     "text": [
      "[nltk_data] Downloading package vader_lexicon to\n",
      "[nltk_data]     C:\\Users\\madha\\AppData\\Roaming\\nltk_data...\n"
     ]
    },
    {
     "data": {
      "text/plain": [
       "True"
      ]
     },
     "execution_count": 2,
     "metadata": {},
     "output_type": "execute_result"
    }
   ],
   "source": [
    "nltk.download('vader_lexicon')"
   ]
  },
  {
   "cell_type": "code",
   "execution_count": 5,
   "metadata": {},
   "outputs": [],
   "source": [
    "# Step 1: Load the Dataset\n",
    "app_df=pd.read_csv(\"Play Store Data.csv\")\n",
    "rvw_df=pd.read_csv(\"User Reviews.csv\")"
   ]
  },
  {
   "cell_type": "code",
   "execution_count": 6,
   "metadata": {},
   "outputs": [
    {
     "data": {
      "text/html": [
       "<div>\n",
       "<style scoped>\n",
       "    .dataframe tbody tr th:only-of-type {\n",
       "        vertical-align: middle;\n",
       "    }\n",
       "\n",
       "    .dataframe tbody tr th {\n",
       "        vertical-align: top;\n",
       "    }\n",
       "\n",
       "    .dataframe thead th {\n",
       "        text-align: right;\n",
       "    }\n",
       "</style>\n",
       "<table border=\"1\" class=\"dataframe\">\n",
       "  <thead>\n",
       "    <tr style=\"text-align: right;\">\n",
       "      <th></th>\n",
       "      <th>App</th>\n",
       "      <th>Category</th>\n",
       "      <th>Rating</th>\n",
       "      <th>Reviews</th>\n",
       "      <th>Size</th>\n",
       "      <th>Installs</th>\n",
       "      <th>Type</th>\n",
       "      <th>Price</th>\n",
       "      <th>Content Rating</th>\n",
       "      <th>Genres</th>\n",
       "      <th>Last Updated</th>\n",
       "      <th>Current Ver</th>\n",
       "      <th>Android Ver</th>\n",
       "    </tr>\n",
       "  </thead>\n",
       "  <tbody>\n",
       "    <tr>\n",
       "      <th>0</th>\n",
       "      <td>Photo Editor &amp; Candy Camera &amp; Grid &amp; ScrapBook</td>\n",
       "      <td>ART_AND_DESIGN</td>\n",
       "      <td>4.1</td>\n",
       "      <td>159</td>\n",
       "      <td>19M</td>\n",
       "      <td>10,000+</td>\n",
       "      <td>Free</td>\n",
       "      <td>0</td>\n",
       "      <td>Everyone</td>\n",
       "      <td>Art &amp; Design</td>\n",
       "      <td>January 7, 2018</td>\n",
       "      <td>1.0.0</td>\n",
       "      <td>4.0.3 and up</td>\n",
       "    </tr>\n",
       "    <tr>\n",
       "      <th>1</th>\n",
       "      <td>Coloring book moana</td>\n",
       "      <td>ART_AND_DESIGN</td>\n",
       "      <td>3.9</td>\n",
       "      <td>967</td>\n",
       "      <td>14M</td>\n",
       "      <td>500,000+</td>\n",
       "      <td>Free</td>\n",
       "      <td>0</td>\n",
       "      <td>Everyone</td>\n",
       "      <td>Art &amp; Design;Pretend Play</td>\n",
       "      <td>January 15, 2018</td>\n",
       "      <td>2.0.0</td>\n",
       "      <td>4.0.3 and up</td>\n",
       "    </tr>\n",
       "    <tr>\n",
       "      <th>2</th>\n",
       "      <td>U Launcher Lite – FREE Live Cool Themes, Hide ...</td>\n",
       "      <td>ART_AND_DESIGN</td>\n",
       "      <td>4.7</td>\n",
       "      <td>87510</td>\n",
       "      <td>8.7M</td>\n",
       "      <td>5,000,000+</td>\n",
       "      <td>Free</td>\n",
       "      <td>0</td>\n",
       "      <td>Everyone</td>\n",
       "      <td>Art &amp; Design</td>\n",
       "      <td>August 1, 2018</td>\n",
       "      <td>1.2.4</td>\n",
       "      <td>4.0.3 and up</td>\n",
       "    </tr>\n",
       "    <tr>\n",
       "      <th>3</th>\n",
       "      <td>Sketch - Draw &amp; Paint</td>\n",
       "      <td>ART_AND_DESIGN</td>\n",
       "      <td>4.5</td>\n",
       "      <td>215644</td>\n",
       "      <td>25M</td>\n",
       "      <td>50,000,000+</td>\n",
       "      <td>Free</td>\n",
       "      <td>0</td>\n",
       "      <td>Teen</td>\n",
       "      <td>Art &amp; Design</td>\n",
       "      <td>June 8, 2018</td>\n",
       "      <td>Varies with device</td>\n",
       "      <td>4.2 and up</td>\n",
       "    </tr>\n",
       "    <tr>\n",
       "      <th>4</th>\n",
       "      <td>Pixel Draw - Number Art Coloring Book</td>\n",
       "      <td>ART_AND_DESIGN</td>\n",
       "      <td>4.3</td>\n",
       "      <td>967</td>\n",
       "      <td>2.8M</td>\n",
       "      <td>100,000+</td>\n",
       "      <td>Free</td>\n",
       "      <td>0</td>\n",
       "      <td>Everyone</td>\n",
       "      <td>Art &amp; Design;Creativity</td>\n",
       "      <td>June 20, 2018</td>\n",
       "      <td>1.1</td>\n",
       "      <td>4.4 and up</td>\n",
       "    </tr>\n",
       "  </tbody>\n",
       "</table>\n",
       "</div>"
      ],
      "text/plain": [
       "                                                 App        Category  Rating  \\\n",
       "0     Photo Editor & Candy Camera & Grid & ScrapBook  ART_AND_DESIGN     4.1   \n",
       "1                                Coloring book moana  ART_AND_DESIGN     3.9   \n",
       "2  U Launcher Lite – FREE Live Cool Themes, Hide ...  ART_AND_DESIGN     4.7   \n",
       "3                              Sketch - Draw & Paint  ART_AND_DESIGN     4.5   \n",
       "4              Pixel Draw - Number Art Coloring Book  ART_AND_DESIGN     4.3   \n",
       "\n",
       "  Reviews  Size     Installs  Type Price Content Rating  \\\n",
       "0     159   19M      10,000+  Free     0       Everyone   \n",
       "1     967   14M     500,000+  Free     0       Everyone   \n",
       "2   87510  8.7M   5,000,000+  Free     0       Everyone   \n",
       "3  215644   25M  50,000,000+  Free     0           Teen   \n",
       "4     967  2.8M     100,000+  Free     0       Everyone   \n",
       "\n",
       "                      Genres      Last Updated         Current Ver  \\\n",
       "0               Art & Design   January 7, 2018               1.0.0   \n",
       "1  Art & Design;Pretend Play  January 15, 2018               2.0.0   \n",
       "2               Art & Design    August 1, 2018               1.2.4   \n",
       "3               Art & Design      June 8, 2018  Varies with device   \n",
       "4    Art & Design;Creativity     June 20, 2018                 1.1   \n",
       "\n",
       "    Android Ver  \n",
       "0  4.0.3 and up  \n",
       "1  4.0.3 and up  \n",
       "2  4.0.3 and up  \n",
       "3    4.2 and up  \n",
       "4    4.4 and up  "
      ]
     },
     "execution_count": 6,
     "metadata": {},
     "output_type": "execute_result"
    }
   ],
   "source": [
    "app_df.head()"
   ]
  },
  {
   "cell_type": "code",
   "execution_count": 7,
   "metadata": {},
   "outputs": [
    {
     "data": {
      "text/html": [
       "<div>\n",
       "<style scoped>\n",
       "    .dataframe tbody tr th:only-of-type {\n",
       "        vertical-align: middle;\n",
       "    }\n",
       "\n",
       "    .dataframe tbody tr th {\n",
       "        vertical-align: top;\n",
       "    }\n",
       "\n",
       "    .dataframe thead th {\n",
       "        text-align: right;\n",
       "    }\n",
       "</style>\n",
       "<table border=\"1\" class=\"dataframe\">\n",
       "  <thead>\n",
       "    <tr style=\"text-align: right;\">\n",
       "      <th></th>\n",
       "      <th>App</th>\n",
       "      <th>Translated_Review</th>\n",
       "      <th>Sentiment</th>\n",
       "      <th>Sentiment_Polarity</th>\n",
       "      <th>Sentiment_Subjectivity</th>\n",
       "    </tr>\n",
       "  </thead>\n",
       "  <tbody>\n",
       "    <tr>\n",
       "      <th>0</th>\n",
       "      <td>10 Best Foods for You</td>\n",
       "      <td>I like eat delicious food. That's I'm cooking ...</td>\n",
       "      <td>Positive</td>\n",
       "      <td>1.00</td>\n",
       "      <td>0.533333</td>\n",
       "    </tr>\n",
       "    <tr>\n",
       "      <th>1</th>\n",
       "      <td>10 Best Foods for You</td>\n",
       "      <td>This help eating healthy exercise regular basis</td>\n",
       "      <td>Positive</td>\n",
       "      <td>0.25</td>\n",
       "      <td>0.288462</td>\n",
       "    </tr>\n",
       "    <tr>\n",
       "      <th>2</th>\n",
       "      <td>10 Best Foods for You</td>\n",
       "      <td>NaN</td>\n",
       "      <td>NaN</td>\n",
       "      <td>NaN</td>\n",
       "      <td>NaN</td>\n",
       "    </tr>\n",
       "    <tr>\n",
       "      <th>3</th>\n",
       "      <td>10 Best Foods for You</td>\n",
       "      <td>Works great especially going grocery store</td>\n",
       "      <td>Positive</td>\n",
       "      <td>0.40</td>\n",
       "      <td>0.875000</td>\n",
       "    </tr>\n",
       "    <tr>\n",
       "      <th>4</th>\n",
       "      <td>10 Best Foods for You</td>\n",
       "      <td>Best idea us</td>\n",
       "      <td>Positive</td>\n",
       "      <td>1.00</td>\n",
       "      <td>0.300000</td>\n",
       "    </tr>\n",
       "  </tbody>\n",
       "</table>\n",
       "</div>"
      ],
      "text/plain": [
       "                     App                                  Translated_Review  \\\n",
       "0  10 Best Foods for You  I like eat delicious food. That's I'm cooking ...   \n",
       "1  10 Best Foods for You    This help eating healthy exercise regular basis   \n",
       "2  10 Best Foods for You                                                NaN   \n",
       "3  10 Best Foods for You         Works great especially going grocery store   \n",
       "4  10 Best Foods for You                                       Best idea us   \n",
       "\n",
       "  Sentiment  Sentiment_Polarity  Sentiment_Subjectivity  \n",
       "0  Positive                1.00                0.533333  \n",
       "1  Positive                0.25                0.288462  \n",
       "2       NaN                 NaN                     NaN  \n",
       "3  Positive                0.40                0.875000  \n",
       "4  Positive                1.00                0.300000  "
      ]
     },
     "execution_count": 7,
     "metadata": {},
     "output_type": "execute_result"
    }
   ],
   "source": [
    "rvw_df.head()"
   ]
  },
  {
   "cell_type": "code",
   "execution_count": 8,
   "metadata": {},
   "outputs": [
    {
     "name": "stderr",
     "output_type": "stream",
     "text": [
      "C:\\Users\\madha\\AppData\\Local\\Temp\\ipykernel_24732\\465835999.py:4: FutureWarning: A value is trying to be set on a copy of a DataFrame or Series through chained assignment using an inplace method.\n",
      "The behavior will change in pandas 3.0. This inplace method will never work because the intermediate object on which we are setting values always behaves as a copy.\n",
      "\n",
      "For example, when doing 'df[col].method(value, inplace=True)', try using 'df.method({col: value}, inplace=True)' or df[col] = df[col].method(value) instead, to perform the operation inplace on the original object.\n",
      "\n",
      "\n",
      "  app_df[column].fillna(app_df[column].mode()[0], inplace=True)\n"
     ]
    }
   ],
   "source": [
    "# Step 2: Data Cleaning\n",
    "app_df = app_df.dropna(subset=['Rating'])\n",
    "for column in app_df.columns:\n",
    "    app_df[column].fillna(app_df[column].mode()[0], inplace=True)\n",
    "app_df.drop_duplicates(inplace=True)\n",
    "app_df = app_df[app_df['Rating'] != 5]\n",
    "rvw_df.dropna(subset=['Translated_Review'], inplace=True)"
   ]
  },
  {
   "cell_type": "code",
   "execution_count": 9,
   "metadata": {},
   "outputs": [],
   "source": [
    "# Merge datasets on 'App' and handle non-matching apps\n",
    "merged_df = pd.merge(app_df, rvw_df, on='App', how='inner')"
   ]
  },
  {
   "cell_type": "code",
   "execution_count": 16,
   "metadata": {},
   "outputs": [],
   "source": [
    "app_df = app_df[app_df['Rating'] <= 5]\n",
    "\n",
    "app_df['Installs'] = app_df['Installs'].str.replace(',','').str.replace('+','').astype(int)\n",
    "\n",
    "app_df['Price'] = app_df['Price'].str.replace('$','').astype(float)"
   ]
  },
  {
   "cell_type": "code",
   "execution_count": 17,
   "metadata": {},
   "outputs": [],
   "source": [
    "def convert_size(size):\n",
    "    if 'M' in size:\n",
    "        return float(size.replace('M', ''))\n",
    "    elif 'k' in size:\n",
    "        return float(size.replace('k', '')) / 1024\n",
    "    else:\n",
    "        return np.nan"
   ]
  },
  {
   "cell_type": "code",
   "execution_count": 18,
   "metadata": {},
   "outputs": [
    {
     "data": {
      "text/html": [
       "<div>\n",
       "<style scoped>\n",
       "    .dataframe tbody tr th:only-of-type {\n",
       "        vertical-align: middle;\n",
       "    }\n",
       "\n",
       "    .dataframe tbody tr th {\n",
       "        vertical-align: top;\n",
       "    }\n",
       "\n",
       "    .dataframe thead th {\n",
       "        text-align: right;\n",
       "    }\n",
       "</style>\n",
       "<table border=\"1\" class=\"dataframe\">\n",
       "  <thead>\n",
       "    <tr style=\"text-align: right;\">\n",
       "      <th></th>\n",
       "      <th>App</th>\n",
       "      <th>Category</th>\n",
       "      <th>Rating</th>\n",
       "      <th>Reviews</th>\n",
       "      <th>Size</th>\n",
       "      <th>Installs</th>\n",
       "      <th>Type</th>\n",
       "      <th>Price</th>\n",
       "      <th>Content Rating</th>\n",
       "      <th>Genres</th>\n",
       "      <th>Last Updated</th>\n",
       "      <th>Current Ver</th>\n",
       "      <th>Android Ver</th>\n",
       "      <th>Translated_Review</th>\n",
       "      <th>Sentiment</th>\n",
       "      <th>Sentiment_Polarity</th>\n",
       "      <th>Sentiment_Subjectivity</th>\n",
       "    </tr>\n",
       "  </thead>\n",
       "  <tbody>\n",
       "    <tr>\n",
       "      <th>0</th>\n",
       "      <td>Coloring book moana</td>\n",
       "      <td>ART_AND_DESIGN</td>\n",
       "      <td>3.9</td>\n",
       "      <td>967</td>\n",
       "      <td>14M</td>\n",
       "      <td>500,000+</td>\n",
       "      <td>Free</td>\n",
       "      <td>0</td>\n",
       "      <td>Everyone</td>\n",
       "      <td>Art &amp; Design;Pretend Play</td>\n",
       "      <td>January 15, 2018</td>\n",
       "      <td>2.0.0</td>\n",
       "      <td>4.0.3 and up</td>\n",
       "      <td>A kid's excessive ads. The types ads allowed a...</td>\n",
       "      <td>Negative</td>\n",
       "      <td>-0.250</td>\n",
       "      <td>1.000000</td>\n",
       "    </tr>\n",
       "    <tr>\n",
       "      <th>1</th>\n",
       "      <td>Coloring book moana</td>\n",
       "      <td>ART_AND_DESIGN</td>\n",
       "      <td>3.9</td>\n",
       "      <td>967</td>\n",
       "      <td>14M</td>\n",
       "      <td>500,000+</td>\n",
       "      <td>Free</td>\n",
       "      <td>0</td>\n",
       "      <td>Everyone</td>\n",
       "      <td>Art &amp; Design;Pretend Play</td>\n",
       "      <td>January 15, 2018</td>\n",
       "      <td>2.0.0</td>\n",
       "      <td>4.0.3 and up</td>\n",
       "      <td>It bad &gt;:(</td>\n",
       "      <td>Negative</td>\n",
       "      <td>-0.725</td>\n",
       "      <td>0.833333</td>\n",
       "    </tr>\n",
       "    <tr>\n",
       "      <th>2</th>\n",
       "      <td>Coloring book moana</td>\n",
       "      <td>ART_AND_DESIGN</td>\n",
       "      <td>3.9</td>\n",
       "      <td>967</td>\n",
       "      <td>14M</td>\n",
       "      <td>500,000+</td>\n",
       "      <td>Free</td>\n",
       "      <td>0</td>\n",
       "      <td>Everyone</td>\n",
       "      <td>Art &amp; Design;Pretend Play</td>\n",
       "      <td>January 15, 2018</td>\n",
       "      <td>2.0.0</td>\n",
       "      <td>4.0.3 and up</td>\n",
       "      <td>like</td>\n",
       "      <td>Neutral</td>\n",
       "      <td>0.000</td>\n",
       "      <td>0.000000</td>\n",
       "    </tr>\n",
       "    <tr>\n",
       "      <th>3</th>\n",
       "      <td>Coloring book moana</td>\n",
       "      <td>ART_AND_DESIGN</td>\n",
       "      <td>3.9</td>\n",
       "      <td>967</td>\n",
       "      <td>14M</td>\n",
       "      <td>500,000+</td>\n",
       "      <td>Free</td>\n",
       "      <td>0</td>\n",
       "      <td>Everyone</td>\n",
       "      <td>Art &amp; Design;Pretend Play</td>\n",
       "      <td>January 15, 2018</td>\n",
       "      <td>2.0.0</td>\n",
       "      <td>4.0.3 and up</td>\n",
       "      <td>I love colors inspyering</td>\n",
       "      <td>Positive</td>\n",
       "      <td>0.500</td>\n",
       "      <td>0.600000</td>\n",
       "    </tr>\n",
       "    <tr>\n",
       "      <th>4</th>\n",
       "      <td>Coloring book moana</td>\n",
       "      <td>ART_AND_DESIGN</td>\n",
       "      <td>3.9</td>\n",
       "      <td>967</td>\n",
       "      <td>14M</td>\n",
       "      <td>500,000+</td>\n",
       "      <td>Free</td>\n",
       "      <td>0</td>\n",
       "      <td>Everyone</td>\n",
       "      <td>Art &amp; Design;Pretend Play</td>\n",
       "      <td>January 15, 2018</td>\n",
       "      <td>2.0.0</td>\n",
       "      <td>4.0.3 and up</td>\n",
       "      <td>I hate</td>\n",
       "      <td>Negative</td>\n",
       "      <td>-0.800</td>\n",
       "      <td>0.900000</td>\n",
       "    </tr>\n",
       "  </tbody>\n",
       "</table>\n",
       "</div>"
      ],
      "text/plain": [
       "                   App        Category  Rating Reviews Size  Installs  Type  \\\n",
       "0  Coloring book moana  ART_AND_DESIGN     3.9     967  14M  500,000+  Free   \n",
       "1  Coloring book moana  ART_AND_DESIGN     3.9     967  14M  500,000+  Free   \n",
       "2  Coloring book moana  ART_AND_DESIGN     3.9     967  14M  500,000+  Free   \n",
       "3  Coloring book moana  ART_AND_DESIGN     3.9     967  14M  500,000+  Free   \n",
       "4  Coloring book moana  ART_AND_DESIGN     3.9     967  14M  500,000+  Free   \n",
       "\n",
       "  Price Content Rating                     Genres      Last Updated  \\\n",
       "0     0       Everyone  Art & Design;Pretend Play  January 15, 2018   \n",
       "1     0       Everyone  Art & Design;Pretend Play  January 15, 2018   \n",
       "2     0       Everyone  Art & Design;Pretend Play  January 15, 2018   \n",
       "3     0       Everyone  Art & Design;Pretend Play  January 15, 2018   \n",
       "4     0       Everyone  Art & Design;Pretend Play  January 15, 2018   \n",
       "\n",
       "  Current Ver   Android Ver  \\\n",
       "0       2.0.0  4.0.3 and up   \n",
       "1       2.0.0  4.0.3 and up   \n",
       "2       2.0.0  4.0.3 and up   \n",
       "3       2.0.0  4.0.3 and up   \n",
       "4       2.0.0  4.0.3 and up   \n",
       "\n",
       "                                   Translated_Review Sentiment  \\\n",
       "0  A kid's excessive ads. The types ads allowed a...  Negative   \n",
       "1                                         It bad >:(  Negative   \n",
       "2                                               like   Neutral   \n",
       "3                           I love colors inspyering  Positive   \n",
       "4                                             I hate  Negative   \n",
       "\n",
       "   Sentiment_Polarity  Sentiment_Subjectivity  \n",
       "0              -0.250                1.000000  \n",
       "1              -0.725                0.833333  \n",
       "2               0.000                0.000000  \n",
       "3               0.500                0.600000  \n",
       "4              -0.800                0.900000  "
      ]
     },
     "execution_count": 18,
     "metadata": {},
     "output_type": "execute_result"
    }
   ],
   "source": [
    "merged_df.head()"
   ]
  },
  {
   "cell_type": "code",
   "execution_count": 19,
   "metadata": {},
   "outputs": [],
   "source": [
    "#lograrithmetic\n",
    "#Add log_installs and log_reviews columns\n",
    "app_df['Log_Installs']=np.log(app_df['Installs'])"
   ]
  },
  {
   "cell_type": "code",
   "execution_count": 20,
   "metadata": {},
   "outputs": [],
   "source": [
    "app_df['Reviews']=app_df['Reviews'].astype(int)"
   ]
  },
  {
   "cell_type": "code",
   "execution_count": 21,
   "metadata": {},
   "outputs": [],
   "source": [
    "app_df['Log_Reviews']=np.log(app_df['Reviews'])"
   ]
  },
  {
   "cell_type": "code",
   "execution_count": 22,
   "metadata": {},
   "outputs": [
    {
     "data": {
      "text/plain": [
       "App                object\n",
       "Category           object\n",
       "Rating            float64\n",
       "Reviews             int64\n",
       "Size               object\n",
       "Installs            int64\n",
       "Type               object\n",
       "Price             float64\n",
       "Content Rating     object\n",
       "Genres             object\n",
       "Last Updated       object\n",
       "Current Ver        object\n",
       "Android Ver        object\n",
       "Log_Installs      float64\n",
       "Log_Reviews       float64\n",
       "dtype: object"
      ]
     },
     "execution_count": 22,
     "metadata": {},
     "output_type": "execute_result"
    }
   ],
   "source": [
    "app_df.dtypes"
   ]
  },
  {
   "cell_type": "code",
   "execution_count": 23,
   "metadata": {},
   "outputs": [],
   "source": [
    "# Add Rating Group column\n",
    "def rating_group(rating):\n",
    "    if rating>=4:\n",
    "        return 'top rated app'\n",
    "    elif rating >=3:\n",
    "        return 'above average'\n",
    "    elif rating>=2:\n",
    "        return 'average'\n",
    "    else:\n",
    "        return 'below average'\n",
    "app_df['Rating_Group']=app_df['Rating'].apply(rating_group)\n"
   ]
  },
  {
   "cell_type": "code",
   "execution_count": 24,
   "metadata": {},
   "outputs": [],
   "source": [
    "## Add Revenue column\n",
    "app_df['Revenue']=app_df['Price']*app_df['Installs']"
   ]
  },
  {
   "cell_type": "code",
   "execution_count": 25,
   "metadata": {},
   "outputs": [],
   "source": [
    "# Sentiment Analysis\n",
    "sia= SentimentIntensityAnalyzer()\n",
    "rvw_df['Sentiment_Score'] = rvw_df['Translated_Review'].apply(lambda x: sia.polarity_scores(str(x))['compound'])"
   ]
  },
  {
   "cell_type": "code",
   "execution_count": 26,
   "metadata": {},
   "outputs": [],
   "source": [
    "#polarity scores in SIA\n",
    "#positive, negative , nuetral and compund"
   ]
  },
  {
   "cell_type": "code",
   "execution_count": 27,
   "metadata": {},
   "outputs": [
    {
     "name": "stdout",
     "output_type": "stream",
     "text": [
      "{'neg': 0.0, 'neu': 0.42, 'pos': 0.58, 'compound': 0.8516}\n"
     ]
    }
   ],
   "source": [
    "review='this app is amazing! i love the new features'\n",
    "sentiment_score=sia.polarity_scores(review)\n",
    "print(sentiment_score)"
   ]
  },
  {
   "cell_type": "code",
   "execution_count": 28,
   "metadata": {},
   "outputs": [
    {
     "name": "stdout",
     "output_type": "stream",
     "text": [
      "{'neg': 0.535, 'neu': 0.465, 'pos': 0.0, 'compound': -0.8427}\n"
     ]
    }
   ],
   "source": [
    "review='this app is very bad! i hate the new features'\n",
    "sentiment_score=sia.polarity_scores(review)\n",
    "print(sentiment_score)"
   ]
  },
  {
   "cell_type": "code",
   "execution_count": 29,
   "metadata": {},
   "outputs": [
    {
     "name": "stdout",
     "output_type": "stream",
     "text": [
      "{'neg': 0.0, 'neu': 0.578, 'pos': 0.422, 'compound': 0.2942}\n"
     ]
    }
   ],
   "source": [
    "review='this app is okay!'\n",
    "sentiment_score=sia.polarity_scores(review)\n",
    "print(sentiment_score)"
   ]
  },
  {
   "cell_type": "code",
   "execution_count": 30,
   "metadata": {},
   "outputs": [],
   "source": [
    "rvw_df['sentiment_score']=rvw_df['Translated_Review'].apply(lambda x: sia.polarity_scores(str(x))['compound'])"
   ]
  },
  {
   "cell_type": "code",
   "execution_count": 31,
   "metadata": {},
   "outputs": [
    {
     "data": {
      "text/html": [
       "<div>\n",
       "<style scoped>\n",
       "    .dataframe tbody tr th:only-of-type {\n",
       "        vertical-align: middle;\n",
       "    }\n",
       "\n",
       "    .dataframe tbody tr th {\n",
       "        vertical-align: top;\n",
       "    }\n",
       "\n",
       "    .dataframe thead th {\n",
       "        text-align: right;\n",
       "    }\n",
       "</style>\n",
       "<table border=\"1\" class=\"dataframe\">\n",
       "  <thead>\n",
       "    <tr style=\"text-align: right;\">\n",
       "      <th></th>\n",
       "      <th>App</th>\n",
       "      <th>Translated_Review</th>\n",
       "      <th>Sentiment</th>\n",
       "      <th>Sentiment_Polarity</th>\n",
       "      <th>Sentiment_Subjectivity</th>\n",
       "      <th>Sentiment_Score</th>\n",
       "      <th>sentiment_score</th>\n",
       "    </tr>\n",
       "  </thead>\n",
       "  <tbody>\n",
       "    <tr>\n",
       "      <th>0</th>\n",
       "      <td>10 Best Foods for You</td>\n",
       "      <td>I like eat delicious food. That's I'm cooking ...</td>\n",
       "      <td>Positive</td>\n",
       "      <td>1.00</td>\n",
       "      <td>0.533333</td>\n",
       "      <td>0.9531</td>\n",
       "      <td>0.9531</td>\n",
       "    </tr>\n",
       "    <tr>\n",
       "      <th>1</th>\n",
       "      <td>10 Best Foods for You</td>\n",
       "      <td>This help eating healthy exercise regular basis</td>\n",
       "      <td>Positive</td>\n",
       "      <td>0.25</td>\n",
       "      <td>0.288462</td>\n",
       "      <td>0.6597</td>\n",
       "      <td>0.6597</td>\n",
       "    </tr>\n",
       "    <tr>\n",
       "      <th>3</th>\n",
       "      <td>10 Best Foods for You</td>\n",
       "      <td>Works great especially going grocery store</td>\n",
       "      <td>Positive</td>\n",
       "      <td>0.40</td>\n",
       "      <td>0.875000</td>\n",
       "      <td>0.6249</td>\n",
       "      <td>0.6249</td>\n",
       "    </tr>\n",
       "    <tr>\n",
       "      <th>4</th>\n",
       "      <td>10 Best Foods for You</td>\n",
       "      <td>Best idea us</td>\n",
       "      <td>Positive</td>\n",
       "      <td>1.00</td>\n",
       "      <td>0.300000</td>\n",
       "      <td>0.6369</td>\n",
       "      <td>0.6369</td>\n",
       "    </tr>\n",
       "    <tr>\n",
       "      <th>5</th>\n",
       "      <td>10 Best Foods for You</td>\n",
       "      <td>Best way</td>\n",
       "      <td>Positive</td>\n",
       "      <td>1.00</td>\n",
       "      <td>0.300000</td>\n",
       "      <td>0.6369</td>\n",
       "      <td>0.6369</td>\n",
       "    </tr>\n",
       "  </tbody>\n",
       "</table>\n",
       "</div>"
      ],
      "text/plain": [
       "                     App                                  Translated_Review  \\\n",
       "0  10 Best Foods for You  I like eat delicious food. That's I'm cooking ...   \n",
       "1  10 Best Foods for You    This help eating healthy exercise regular basis   \n",
       "3  10 Best Foods for You         Works great especially going grocery store   \n",
       "4  10 Best Foods for You                                       Best idea us   \n",
       "5  10 Best Foods for You                                           Best way   \n",
       "\n",
       "  Sentiment  Sentiment_Polarity  Sentiment_Subjectivity  Sentiment_Score  \\\n",
       "0  Positive                1.00                0.533333           0.9531   \n",
       "1  Positive                0.25                0.288462           0.6597   \n",
       "3  Positive                0.40                0.875000           0.6249   \n",
       "4  Positive                1.00                0.300000           0.6369   \n",
       "5  Positive                1.00                0.300000           0.6369   \n",
       "\n",
       "   sentiment_score  \n",
       "0           0.9531  \n",
       "1           0.6597  \n",
       "3           0.6249  \n",
       "4           0.6369  \n",
       "5           0.6369  "
      ]
     },
     "execution_count": 31,
     "metadata": {},
     "output_type": "execute_result"
    }
   ],
   "source": [
    "rvw_df.head()"
   ]
  },
  {
   "cell_type": "code",
   "execution_count": 32,
   "metadata": {},
   "outputs": [],
   "source": [
    "# Extract year from 'Last Updated' and create 'Year' column\n",
    "app_df['Last Updated']=pd.to_datetime(app_df['Last Updated'],errors='coerce')"
   ]
  },
  {
   "cell_type": "code",
   "execution_count": 33,
   "metadata": {},
   "outputs": [],
   "source": [
    "app_df['Year']=app_df['Last Updated'].dt.year"
   ]
  },
  {
   "cell_type": "code",
   "execution_count": 34,
   "metadata": {},
   "outputs": [
    {
     "data": {
      "text/html": [
       "<div>\n",
       "<style scoped>\n",
       "    .dataframe tbody tr th:only-of-type {\n",
       "        vertical-align: middle;\n",
       "    }\n",
       "\n",
       "    .dataframe tbody tr th {\n",
       "        vertical-align: top;\n",
       "    }\n",
       "\n",
       "    .dataframe thead th {\n",
       "        text-align: right;\n",
       "    }\n",
       "</style>\n",
       "<table border=\"1\" class=\"dataframe\">\n",
       "  <thead>\n",
       "    <tr style=\"text-align: right;\">\n",
       "      <th></th>\n",
       "      <th>App</th>\n",
       "      <th>Category</th>\n",
       "      <th>Rating</th>\n",
       "      <th>Reviews</th>\n",
       "      <th>Size</th>\n",
       "      <th>Installs</th>\n",
       "      <th>Type</th>\n",
       "      <th>Price</th>\n",
       "      <th>Content Rating</th>\n",
       "      <th>Genres</th>\n",
       "      <th>Last Updated</th>\n",
       "      <th>Current Ver</th>\n",
       "      <th>Android Ver</th>\n",
       "      <th>Log_Installs</th>\n",
       "      <th>Log_Reviews</th>\n",
       "      <th>Rating_Group</th>\n",
       "      <th>Revenue</th>\n",
       "      <th>Year</th>\n",
       "    </tr>\n",
       "  </thead>\n",
       "  <tbody>\n",
       "    <tr>\n",
       "      <th>0</th>\n",
       "      <td>Photo Editor &amp; Candy Camera &amp; Grid &amp; ScrapBook</td>\n",
       "      <td>ART_AND_DESIGN</td>\n",
       "      <td>4.1</td>\n",
       "      <td>159</td>\n",
       "      <td>19M</td>\n",
       "      <td>10000</td>\n",
       "      <td>Free</td>\n",
       "      <td>0.0</td>\n",
       "      <td>Everyone</td>\n",
       "      <td>Art &amp; Design</td>\n",
       "      <td>2018-01-07</td>\n",
       "      <td>1.0.0</td>\n",
       "      <td>4.0.3 and up</td>\n",
       "      <td>9.210340</td>\n",
       "      <td>5.068904</td>\n",
       "      <td>top rated app</td>\n",
       "      <td>0.0</td>\n",
       "      <td>2018</td>\n",
       "    </tr>\n",
       "    <tr>\n",
       "      <th>1</th>\n",
       "      <td>Coloring book moana</td>\n",
       "      <td>ART_AND_DESIGN</td>\n",
       "      <td>3.9</td>\n",
       "      <td>967</td>\n",
       "      <td>14M</td>\n",
       "      <td>500000</td>\n",
       "      <td>Free</td>\n",
       "      <td>0.0</td>\n",
       "      <td>Everyone</td>\n",
       "      <td>Art &amp; Design;Pretend Play</td>\n",
       "      <td>2018-01-15</td>\n",
       "      <td>2.0.0</td>\n",
       "      <td>4.0.3 and up</td>\n",
       "      <td>13.122363</td>\n",
       "      <td>6.874198</td>\n",
       "      <td>above average</td>\n",
       "      <td>0.0</td>\n",
       "      <td>2018</td>\n",
       "    </tr>\n",
       "    <tr>\n",
       "      <th>2</th>\n",
       "      <td>U Launcher Lite – FREE Live Cool Themes, Hide ...</td>\n",
       "      <td>ART_AND_DESIGN</td>\n",
       "      <td>4.7</td>\n",
       "      <td>87510</td>\n",
       "      <td>8.7M</td>\n",
       "      <td>5000000</td>\n",
       "      <td>Free</td>\n",
       "      <td>0.0</td>\n",
       "      <td>Everyone</td>\n",
       "      <td>Art &amp; Design</td>\n",
       "      <td>2018-08-01</td>\n",
       "      <td>1.2.4</td>\n",
       "      <td>4.0.3 and up</td>\n",
       "      <td>15.424948</td>\n",
       "      <td>11.379508</td>\n",
       "      <td>top rated app</td>\n",
       "      <td>0.0</td>\n",
       "      <td>2018</td>\n",
       "    </tr>\n",
       "    <tr>\n",
       "      <th>3</th>\n",
       "      <td>Sketch - Draw &amp; Paint</td>\n",
       "      <td>ART_AND_DESIGN</td>\n",
       "      <td>4.5</td>\n",
       "      <td>215644</td>\n",
       "      <td>25M</td>\n",
       "      <td>50000000</td>\n",
       "      <td>Free</td>\n",
       "      <td>0.0</td>\n",
       "      <td>Teen</td>\n",
       "      <td>Art &amp; Design</td>\n",
       "      <td>2018-06-08</td>\n",
       "      <td>Varies with device</td>\n",
       "      <td>4.2 and up</td>\n",
       "      <td>17.727534</td>\n",
       "      <td>12.281384</td>\n",
       "      <td>top rated app</td>\n",
       "      <td>0.0</td>\n",
       "      <td>2018</td>\n",
       "    </tr>\n",
       "    <tr>\n",
       "      <th>4</th>\n",
       "      <td>Pixel Draw - Number Art Coloring Book</td>\n",
       "      <td>ART_AND_DESIGN</td>\n",
       "      <td>4.3</td>\n",
       "      <td>967</td>\n",
       "      <td>2.8M</td>\n",
       "      <td>100000</td>\n",
       "      <td>Free</td>\n",
       "      <td>0.0</td>\n",
       "      <td>Everyone</td>\n",
       "      <td>Art &amp; Design;Creativity</td>\n",
       "      <td>2018-06-20</td>\n",
       "      <td>1.1</td>\n",
       "      <td>4.4 and up</td>\n",
       "      <td>11.512925</td>\n",
       "      <td>6.874198</td>\n",
       "      <td>top rated app</td>\n",
       "      <td>0.0</td>\n",
       "      <td>2018</td>\n",
       "    </tr>\n",
       "  </tbody>\n",
       "</table>\n",
       "</div>"
      ],
      "text/plain": [
       "                                                 App        Category  Rating  \\\n",
       "0     Photo Editor & Candy Camera & Grid & ScrapBook  ART_AND_DESIGN     4.1   \n",
       "1                                Coloring book moana  ART_AND_DESIGN     3.9   \n",
       "2  U Launcher Lite – FREE Live Cool Themes, Hide ...  ART_AND_DESIGN     4.7   \n",
       "3                              Sketch - Draw & Paint  ART_AND_DESIGN     4.5   \n",
       "4              Pixel Draw - Number Art Coloring Book  ART_AND_DESIGN     4.3   \n",
       "\n",
       "   Reviews  Size  Installs  Type  Price Content Rating  \\\n",
       "0      159   19M     10000  Free    0.0       Everyone   \n",
       "1      967   14M    500000  Free    0.0       Everyone   \n",
       "2    87510  8.7M   5000000  Free    0.0       Everyone   \n",
       "3   215644   25M  50000000  Free    0.0           Teen   \n",
       "4      967  2.8M    100000  Free    0.0       Everyone   \n",
       "\n",
       "                      Genres Last Updated         Current Ver   Android Ver  \\\n",
       "0               Art & Design   2018-01-07               1.0.0  4.0.3 and up   \n",
       "1  Art & Design;Pretend Play   2018-01-15               2.0.0  4.0.3 and up   \n",
       "2               Art & Design   2018-08-01               1.2.4  4.0.3 and up   \n",
       "3               Art & Design   2018-06-08  Varies with device    4.2 and up   \n",
       "4    Art & Design;Creativity   2018-06-20                 1.1    4.4 and up   \n",
       "\n",
       "   Log_Installs  Log_Reviews   Rating_Group  Revenue  Year  \n",
       "0      9.210340     5.068904  top rated app      0.0  2018  \n",
       "1     13.122363     6.874198  above average      0.0  2018  \n",
       "2     15.424948    11.379508  top rated app      0.0  2018  \n",
       "3     17.727534    12.281384  top rated app      0.0  2018  \n",
       "4     11.512925     6.874198  top rated app      0.0  2018  "
      ]
     },
     "execution_count": 34,
     "metadata": {},
     "output_type": "execute_result"
    }
   ],
   "source": [
    "app_df.head()"
   ]
  },
  {
   "cell_type": "code",
   "execution_count": 35,
   "metadata": {},
   "outputs": [
    {
     "data": {
      "application/vnd.plotly.v1+json": {
       "config": {
        "plotlyServerURL": "https://plot.ly"
       },
       "data": [
        {
         "hovertemplate": "x=%{x}<br>y=%{y}<extra></extra>",
         "legendgroup": "",
         "marker": {
          "color": "#636efa",
          "pattern": {
           "shape": ""
          }
         },
         "name": "",
         "orientation": "v",
         "showlegend": false,
         "textposition": "auto",
         "type": "bar",
         "x": [
          "A",
          "B",
          "C"
         ],
         "xaxis": "x",
         "y": {
          "bdata": "AQMC",
          "dtype": "i1"
         },
         "yaxis": "y"
        }
       ],
       "layout": {
        "barmode": "relative",
        "legend": {
         "tracegroupgap": 0
        },
        "template": {
         "data": {
          "bar": [
           {
            "error_x": {
             "color": "#2a3f5f"
            },
            "error_y": {
             "color": "#2a3f5f"
            },
            "marker": {
             "line": {
              "color": "#E5ECF6",
              "width": 0.5
             },
             "pattern": {
              "fillmode": "overlay",
              "size": 10,
              "solidity": 0.2
             }
            },
            "type": "bar"
           }
          ],
          "barpolar": [
           {
            "marker": {
             "line": {
              "color": "#E5ECF6",
              "width": 0.5
             },
             "pattern": {
              "fillmode": "overlay",
              "size": 10,
              "solidity": 0.2
             }
            },
            "type": "barpolar"
           }
          ],
          "carpet": [
           {
            "aaxis": {
             "endlinecolor": "#2a3f5f",
             "gridcolor": "white",
             "linecolor": "white",
             "minorgridcolor": "white",
             "startlinecolor": "#2a3f5f"
            },
            "baxis": {
             "endlinecolor": "#2a3f5f",
             "gridcolor": "white",
             "linecolor": "white",
             "minorgridcolor": "white",
             "startlinecolor": "#2a3f5f"
            },
            "type": "carpet"
           }
          ],
          "choropleth": [
           {
            "colorbar": {
             "outlinewidth": 0,
             "ticks": ""
            },
            "type": "choropleth"
           }
          ],
          "contour": [
           {
            "colorbar": {
             "outlinewidth": 0,
             "ticks": ""
            },
            "colorscale": [
             [
              0,
              "#0d0887"
             ],
             [
              0.1111111111111111,
              "#46039f"
             ],
             [
              0.2222222222222222,
              "#7201a8"
             ],
             [
              0.3333333333333333,
              "#9c179e"
             ],
             [
              0.4444444444444444,
              "#bd3786"
             ],
             [
              0.5555555555555556,
              "#d8576b"
             ],
             [
              0.6666666666666666,
              "#ed7953"
             ],
             [
              0.7777777777777778,
              "#fb9f3a"
             ],
             [
              0.8888888888888888,
              "#fdca26"
             ],
             [
              1,
              "#f0f921"
             ]
            ],
            "type": "contour"
           }
          ],
          "contourcarpet": [
           {
            "colorbar": {
             "outlinewidth": 0,
             "ticks": ""
            },
            "type": "contourcarpet"
           }
          ],
          "heatmap": [
           {
            "colorbar": {
             "outlinewidth": 0,
             "ticks": ""
            },
            "colorscale": [
             [
              0,
              "#0d0887"
             ],
             [
              0.1111111111111111,
              "#46039f"
             ],
             [
              0.2222222222222222,
              "#7201a8"
             ],
             [
              0.3333333333333333,
              "#9c179e"
             ],
             [
              0.4444444444444444,
              "#bd3786"
             ],
             [
              0.5555555555555556,
              "#d8576b"
             ],
             [
              0.6666666666666666,
              "#ed7953"
             ],
             [
              0.7777777777777778,
              "#fb9f3a"
             ],
             [
              0.8888888888888888,
              "#fdca26"
             ],
             [
              1,
              "#f0f921"
             ]
            ],
            "type": "heatmap"
           }
          ],
          "histogram": [
           {
            "marker": {
             "pattern": {
              "fillmode": "overlay",
              "size": 10,
              "solidity": 0.2
             }
            },
            "type": "histogram"
           }
          ],
          "histogram2d": [
           {
            "colorbar": {
             "outlinewidth": 0,
             "ticks": ""
            },
            "colorscale": [
             [
              0,
              "#0d0887"
             ],
             [
              0.1111111111111111,
              "#46039f"
             ],
             [
              0.2222222222222222,
              "#7201a8"
             ],
             [
              0.3333333333333333,
              "#9c179e"
             ],
             [
              0.4444444444444444,
              "#bd3786"
             ],
             [
              0.5555555555555556,
              "#d8576b"
             ],
             [
              0.6666666666666666,
              "#ed7953"
             ],
             [
              0.7777777777777778,
              "#fb9f3a"
             ],
             [
              0.8888888888888888,
              "#fdca26"
             ],
             [
              1,
              "#f0f921"
             ]
            ],
            "type": "histogram2d"
           }
          ],
          "histogram2dcontour": [
           {
            "colorbar": {
             "outlinewidth": 0,
             "ticks": ""
            },
            "colorscale": [
             [
              0,
              "#0d0887"
             ],
             [
              0.1111111111111111,
              "#46039f"
             ],
             [
              0.2222222222222222,
              "#7201a8"
             ],
             [
              0.3333333333333333,
              "#9c179e"
             ],
             [
              0.4444444444444444,
              "#bd3786"
             ],
             [
              0.5555555555555556,
              "#d8576b"
             ],
             [
              0.6666666666666666,
              "#ed7953"
             ],
             [
              0.7777777777777778,
              "#fb9f3a"
             ],
             [
              0.8888888888888888,
              "#fdca26"
             ],
             [
              1,
              "#f0f921"
             ]
            ],
            "type": "histogram2dcontour"
           }
          ],
          "mesh3d": [
           {
            "colorbar": {
             "outlinewidth": 0,
             "ticks": ""
            },
            "type": "mesh3d"
           }
          ],
          "parcoords": [
           {
            "line": {
             "colorbar": {
              "outlinewidth": 0,
              "ticks": ""
             }
            },
            "type": "parcoords"
           }
          ],
          "pie": [
           {
            "automargin": true,
            "type": "pie"
           }
          ],
          "scatter": [
           {
            "fillpattern": {
             "fillmode": "overlay",
             "size": 10,
             "solidity": 0.2
            },
            "type": "scatter"
           }
          ],
          "scatter3d": [
           {
            "line": {
             "colorbar": {
              "outlinewidth": 0,
              "ticks": ""
             }
            },
            "marker": {
             "colorbar": {
              "outlinewidth": 0,
              "ticks": ""
             }
            },
            "type": "scatter3d"
           }
          ],
          "scattercarpet": [
           {
            "marker": {
             "colorbar": {
              "outlinewidth": 0,
              "ticks": ""
             }
            },
            "type": "scattercarpet"
           }
          ],
          "scattergeo": [
           {
            "marker": {
             "colorbar": {
              "outlinewidth": 0,
              "ticks": ""
             }
            },
            "type": "scattergeo"
           }
          ],
          "scattergl": [
           {
            "marker": {
             "colorbar": {
              "outlinewidth": 0,
              "ticks": ""
             }
            },
            "type": "scattergl"
           }
          ],
          "scattermap": [
           {
            "marker": {
             "colorbar": {
              "outlinewidth": 0,
              "ticks": ""
             }
            },
            "type": "scattermap"
           }
          ],
          "scattermapbox": [
           {
            "marker": {
             "colorbar": {
              "outlinewidth": 0,
              "ticks": ""
             }
            },
            "type": "scattermapbox"
           }
          ],
          "scatterpolar": [
           {
            "marker": {
             "colorbar": {
              "outlinewidth": 0,
              "ticks": ""
             }
            },
            "type": "scatterpolar"
           }
          ],
          "scatterpolargl": [
           {
            "marker": {
             "colorbar": {
              "outlinewidth": 0,
              "ticks": ""
             }
            },
            "type": "scatterpolargl"
           }
          ],
          "scatterternary": [
           {
            "marker": {
             "colorbar": {
              "outlinewidth": 0,
              "ticks": ""
             }
            },
            "type": "scatterternary"
           }
          ],
          "surface": [
           {
            "colorbar": {
             "outlinewidth": 0,
             "ticks": ""
            },
            "colorscale": [
             [
              0,
              "#0d0887"
             ],
             [
              0.1111111111111111,
              "#46039f"
             ],
             [
              0.2222222222222222,
              "#7201a8"
             ],
             [
              0.3333333333333333,
              "#9c179e"
             ],
             [
              0.4444444444444444,
              "#bd3786"
             ],
             [
              0.5555555555555556,
              "#d8576b"
             ],
             [
              0.6666666666666666,
              "#ed7953"
             ],
             [
              0.7777777777777778,
              "#fb9f3a"
             ],
             [
              0.8888888888888888,
              "#fdca26"
             ],
             [
              1,
              "#f0f921"
             ]
            ],
            "type": "surface"
           }
          ],
          "table": [
           {
            "cells": {
             "fill": {
              "color": "#EBF0F8"
             },
             "line": {
              "color": "white"
             }
            },
            "header": {
             "fill": {
              "color": "#C8D4E3"
             },
             "line": {
              "color": "white"
             }
            },
            "type": "table"
           }
          ]
         },
         "layout": {
          "annotationdefaults": {
           "arrowcolor": "#2a3f5f",
           "arrowhead": 0,
           "arrowwidth": 1
          },
          "autotypenumbers": "strict",
          "coloraxis": {
           "colorbar": {
            "outlinewidth": 0,
            "ticks": ""
           }
          },
          "colorscale": {
           "diverging": [
            [
             0,
             "#8e0152"
            ],
            [
             0.1,
             "#c51b7d"
            ],
            [
             0.2,
             "#de77ae"
            ],
            [
             0.3,
             "#f1b6da"
            ],
            [
             0.4,
             "#fde0ef"
            ],
            [
             0.5,
             "#f7f7f7"
            ],
            [
             0.6,
             "#e6f5d0"
            ],
            [
             0.7,
             "#b8e186"
            ],
            [
             0.8,
             "#7fbc41"
            ],
            [
             0.9,
             "#4d9221"
            ],
            [
             1,
             "#276419"
            ]
           ],
           "sequential": [
            [
             0,
             "#0d0887"
            ],
            [
             0.1111111111111111,
             "#46039f"
            ],
            [
             0.2222222222222222,
             "#7201a8"
            ],
            [
             0.3333333333333333,
             "#9c179e"
            ],
            [
             0.4444444444444444,
             "#bd3786"
            ],
            [
             0.5555555555555556,
             "#d8576b"
            ],
            [
             0.6666666666666666,
             "#ed7953"
            ],
            [
             0.7777777777777778,
             "#fb9f3a"
            ],
            [
             0.8888888888888888,
             "#fdca26"
            ],
            [
             1,
             "#f0f921"
            ]
           ],
           "sequentialminus": [
            [
             0,
             "#0d0887"
            ],
            [
             0.1111111111111111,
             "#46039f"
            ],
            [
             0.2222222222222222,
             "#7201a8"
            ],
            [
             0.3333333333333333,
             "#9c179e"
            ],
            [
             0.4444444444444444,
             "#bd3786"
            ],
            [
             0.5555555555555556,
             "#d8576b"
            ],
            [
             0.6666666666666666,
             "#ed7953"
            ],
            [
             0.7777777777777778,
             "#fb9f3a"
            ],
            [
             0.8888888888888888,
             "#fdca26"
            ],
            [
             1,
             "#f0f921"
            ]
           ]
          },
          "colorway": [
           "#636efa",
           "#EF553B",
           "#00cc96",
           "#ab63fa",
           "#FFA15A",
           "#19d3f3",
           "#FF6692",
           "#B6E880",
           "#FF97FF",
           "#FECB52"
          ],
          "font": {
           "color": "#2a3f5f"
          },
          "geo": {
           "bgcolor": "white",
           "lakecolor": "white",
           "landcolor": "#E5ECF6",
           "showlakes": true,
           "showland": true,
           "subunitcolor": "white"
          },
          "hoverlabel": {
           "align": "left"
          },
          "hovermode": "closest",
          "mapbox": {
           "style": "light"
          },
          "paper_bgcolor": "white",
          "plot_bgcolor": "#E5ECF6",
          "polar": {
           "angularaxis": {
            "gridcolor": "white",
            "linecolor": "white",
            "ticks": ""
           },
           "bgcolor": "#E5ECF6",
           "radialaxis": {
            "gridcolor": "white",
            "linecolor": "white",
            "ticks": ""
           }
          },
          "scene": {
           "xaxis": {
            "backgroundcolor": "#E5ECF6",
            "gridcolor": "white",
            "gridwidth": 2,
            "linecolor": "white",
            "showbackground": true,
            "ticks": "",
            "zerolinecolor": "white"
           },
           "yaxis": {
            "backgroundcolor": "#E5ECF6",
            "gridcolor": "white",
            "gridwidth": 2,
            "linecolor": "white",
            "showbackground": true,
            "ticks": "",
            "zerolinecolor": "white"
           },
           "zaxis": {
            "backgroundcolor": "#E5ECF6",
            "gridcolor": "white",
            "gridwidth": 2,
            "linecolor": "white",
            "showbackground": true,
            "ticks": "",
            "zerolinecolor": "white"
           }
          },
          "shapedefaults": {
           "line": {
            "color": "#2a3f5f"
           }
          },
          "ternary": {
           "aaxis": {
            "gridcolor": "white",
            "linecolor": "white",
            "ticks": ""
           },
           "baxis": {
            "gridcolor": "white",
            "linecolor": "white",
            "ticks": ""
           },
           "bgcolor": "#E5ECF6",
           "caxis": {
            "gridcolor": "white",
            "linecolor": "white",
            "ticks": ""
           }
          },
          "title": {
           "x": 0.05
          },
          "xaxis": {
           "automargin": true,
           "gridcolor": "white",
           "linecolor": "white",
           "ticks": "",
           "title": {
            "standoff": 15
           },
           "zerolinecolor": "white",
           "zerolinewidth": 2
          },
          "yaxis": {
           "automargin": true,
           "gridcolor": "white",
           "linecolor": "white",
           "ticks": "",
           "title": {
            "standoff": 15
           },
           "zerolinecolor": "white",
           "zerolinewidth": 2
          }
         }
        },
        "title": {
         "text": "sample bar chat"
        },
        "xaxis": {
         "anchor": "y",
         "domain": [
          0,
          1
         ],
         "title": {
          "text": "x"
         }
        },
        "yaxis": {
         "anchor": "x",
         "domain": [
          0,
          1
         ],
         "title": {
          "text": "y"
         }
        }
       }
      },
      "image/png": "[encoded data removed]"
     },
     "metadata": {},
     "output_type": "display_data"
    }
   ],
   "source": [
    "import plotly.express as px\n",
    "fig=px.bar(x=[\"A\",\"B\",\"C\"],y=[1,3,2],title=\"sample bar chat\")\n",
    "fig.show()"
   ]
  },
  {
   "cell_type": "code",
   "execution_count": 39,
   "metadata": {},
   "outputs": [],
   "source": [
    "import os\n",
    "\n",
    "html_files_path = os.path.join(os.getcwd(), \"html_files\")\n",
    "os.makedirs(html_files_path, exist_ok=True)\n"
   ]
  },
  {
   "cell_type": "code",
   "execution_count": 40,
   "metadata": {},
   "outputs": [
    {
     "name": "stdout",
     "output_type": "stream",
     "text": [
      "C:\\Users\\madha\\html_files\n"
     ]
    }
   ],
   "source": [
    "import os\n",
    "print(html_files_path)\n"
   ]
  },
  {
   "cell_type": "code",
   "execution_count": 41,
   "metadata": {},
   "outputs": [],
   "source": [
    "\n",
    "\n",
    "\n",
    "\n",
    "# Initialize plot_containers\n",
    "plot_containers = \"\"\n",
    "\n",
    "# Save each Plotly figure to an HTML file\n",
    "def save_plot_as_html(fig, filename, insight):\n",
    "    global plot_containers\n",
    "    filepath = os.path.join(html_files_path, filename)\n",
    "    html_content = pio.to_html(fig, full_html=False, include_plotlyjs='inline')\n",
    "    # Append the plot and its insight to plot_containers\n",
    "    plot_containers += f\"\"\"\n",
    "    <div class=\"plot-container\" id=\"{filename}\" onclick=\"openPlot('{filename}')\">\n",
    "        <div class=\"plot\">{html_content}</div>\n",
    "        <div class=\"insights\">{insight}</div>\n",
    "    </div>\n",
    "    \"\"\"\n",
    "    fig.write_html(filepath, full_html=False, include_plotlyjs='inline')\n",
    "\n",
    "# Define your plots\n",
    "plot_width = 400\n",
    "plot_height = 300\n",
    "plot_bg_color = 'black'\n",
    "text_color = 'white'\n",
    "title_font = {'size': 16}\n",
    "axis_font = {'size': 12}\n",
    "# Category Analysis Plot\n",
    "category_counts = app_df['Category'].value_counts().nlargest(10)\n",
    "fig1 = px.bar(\n",
    "    x=category_counts.index,\n",
    "    y=category_counts.values,\n",
    "    labels={'x': 'Category', 'y': 'Count'},\n",
    "    title='Top Categories on Play Store',\n",
    "    color=category_counts.index,\n",
    "    color_discrete_sequence=px.colors.sequential.Plasma,\n",
    "    width=plot_width,\n",
    "    height=plot_height\n",
    ")\n",
    "fig1.update_layout(\n",
    "    plot_bgcolor=plot_bg_color,\n",
    "    paper_bgcolor=plot_bg_color,\n",
    "    font_color=text_color,\n",
    "    title_font=title_font,\n",
    "    xaxis=dict(title_font=axis_font),\n",
    "    yaxis=dict(title_font=axis_font),\n",
    "    margin=dict(l=10, r=10, t=30, b=10)\n",
    ")\n",
    "fig1.update_traces(marker=dict(line=dict(color=text_color, width=1)))\n",
    "save_plot_as_html(fig1, \"category_analysis.html\", \"The top categories on the Play Store are dominated by tools, entertainment, and productivity apps. This suggests users are looking for apps that either provide utility or offer leisure activities.\")\n",
    "\n",
    "# Type Analysis Plot\n",
    "type_counts = app_df['Type'].value_counts()\n",
    "fig2 = px.pie(\n",
    "    values=type_counts.values,\n",
    "    names=type_counts.index,\n",
    "    title='App Type Distribution',\n",
    "    color_discrete_sequence=px.colors.sequential.RdBu,\n",
    "    width=plot_width,\n",
    "    height=plot_height\n",
    ")\n",
    "fig2.update_traces(textposition='inside', textinfo='percent+label')\n",
    "fig2.update_layout(\n",
    "    plot_bgcolor=plot_bg_color,\n",
    "    paper_bgcolor=plot_bg_color,\n",
    "    font_color=text_color,\n",
    "    title_font=title_font,\n",
    "    margin=dict(l=10, r=10, t=30, b=10)\n",
    ")\n",
    "save_plot_as_html(fig2, \"type_analysis.html\", \"Most apps on the Play Store are free, indicating a strategy to attract users first and monetize through ads or in-app purchases.\")\n",
    "\n",
    "# Rating Distribution Plot\n",
    "fig3 = px.histogram(\n",
    "    app_df,\n",
    "    x='Rating',\n",
    "    nbins=20,\n",
    "    title='Rating Distribution',\n",
    "    color_discrete_sequence=['#636EFA'],\n",
    "    width=plot_width,\n",
    "    height=plot_height\n",
    ")\n",
    "fig3.update_layout(\n",
    "    plot_bgcolor=plot_bg_color,\n",
    "    paper_bgcolor=plot_bg_color,\n",
    "    font_color=text_color,\n",
    "    title_font=title_font,\n",
    "    xaxis=dict(title_font=axis_font),\n",
    "    yaxis=dict(title_font=axis_font),\n",
    "    margin=dict(l=10, r=10, t=30, b=10)\n",
    ")\n",
    "save_plot_as_html(fig3, \"rating_distribution.html\", \"Ratings are skewed towards higher values, suggesting that most apps are rated favorably by users.\")\n",
    "\n",
    "sentiment_counts = rvw_df['Sentiment_Score'].value_counts()\n",
    "fig4 = px.bar(\n",
    "    x=sentiment_counts.index,\n",
    "    y=sentiment_counts.values,\n",
    "    labels={'x': 'Sentiment Score', 'y': 'Count'},\n",
    "    title='Sentiment Distribution',\n",
    "    color=sentiment_counts.index,\n",
    "    color_discrete_sequence=px.colors.sequential.RdPu,\n",
    "    width=plot_width,\n",
    "    height=plot_height\n",
    ")\n",
    "fig4.update_layout(\n",
    "    plot_bgcolor=plot_bg_color,\n",
    "    paper_bgcolor=plot_bg_color,\n",
    "    font_color=text_color,\n",
    "    title_font=title_font,\n",
    "    xaxis=dict(title_font=axis_font),\n",
    "    yaxis=dict(title_font=axis_font),\n",
    "    margin=dict(l=10, r=10, t=30, b=10)\n",
    ")\n",
    "fig4.update_traces(marker=dict(line=dict(color=text_color, width=1)))\n",
    "save_plot_as_html(fig4, \"sentiment_distribution.html\", \"Sentiments in reviews show a mix of positive and negative feedback, with a slight lean towards positive sentiments.\")\n",
    "\n",
    "# Installs by Category Plot\n",
    "installs_by_category = app_df.groupby('Category')['Installs'].sum().nlargest(10)\n",
    "fig5 = px.bar(\n",
    "    x=installs_by_category.values,\n",
    "    y=installs_by_category.index,\n",
    "    orientation='h',\n",
    "    labels={'x': 'Installs', 'y': 'Category'},\n",
    "    title='Installs by Category',\n",
    "    color=installs_by_category.index,\n",
    "    color_discrete_sequence=px.colors.sequential.Blues,\n",
    "    width=plot_width,\n",
    "    height=plot_height\n",
    ")\n",
    "fig5.update_layout(\n",
    "    plot_bgcolor=plot_bg_color,\n",
    "    paper_bgcolor=plot_bg_color,\n",
    "    font_color=text_color,\n",
    "    title_font=title_font,\n",
    "    xaxis=dict(title_font=axis_font),\n",
    "    yaxis=dict(title_font=axis_font),\n",
    "    margin=dict(l=10, r=10, t=30, b=10)\n",
    ")\n",
    "fig5.update_traces(marker=dict(line=dict(color=text_color, width=1)))\n",
    "save_plot_as_html(fig5, \"installs_by_category.html\", \"The categories with the most installs are social and communication apps, which reflects their broad appeal and daily usage.\")\n",
    "\n",
    "# Updates Per Year Plot\n",
    "updates_per_year = app_df['Last Updated'].dt.year.value_counts().sort_index()\n",
    "fig6 = px.line(\n",
    "    x=updates_per_year.index,\n",
    "    y=updates_per_year.values,\n",
    "    labels={'x': 'Year', 'y': 'Number of Updates'},\n",
    "    title='Number of Updates Over the Years',\n",
    "    color_discrete_sequence=['#AB63FA'],\n",
    "    width=plot_width,\n",
    "    height=plot_height\n",
    ")\n",
    "fig6.update_layout(\n",
    "    plot_bgcolor=plot_bg_color,\n",
    "    paper_bgcolor=plot_bg_color,\n",
    "    font_color=text_color,\n",
    "    title_font=title_font,\n",
    "    xaxis=dict(title_font=axis_font),\n",
    "    yaxis=dict(title_font=axis_font),\n",
    "    margin=dict(l=10, r=10, t=30, b=10)\n",
    ")\n",
    "save_plot_as_html(fig6, \"updates_per_year.html\", \"Updates have been increasing over the years, showing that developers are actively maintaining and improving their apps.\")\n",
    "\n",
    "# Revenue by Category Plot\n",
    "revenue_by_category = app_df.groupby('Category')['Revenue'].sum().nlargest(10)\n",
    "fig7 = px.bar(\n",
    "    x=revenue_by_category.index,\n",
    "    y=revenue_by_category.values,\n",
    "    labels={'x': 'Category', 'y': 'Revenue'},\n",
    "    title='Revenue by Category',\n",
    "    color=revenue_by_category.index,\n",
    "    color_discrete_sequence=px.colors.sequential.Greens,\n",
    "    width=plot_width,\n",
    "    height=plot_height\n",
    ")\n",
    "fig7.update_layout(\n",
    "    plot_bgcolor=plot_bg_color,\n",
    "    paper_bgcolor=plot_bg_color,\n",
    "    font_color=text_color,\n",
    "    title_font=title_font,\n",
    "    xaxis=dict(title_font=axis_font),\n",
    "    yaxis=dict(title_font=axis_font),\n",
    "    margin=dict(l=10, r=10, t=30, b=10)\n",
    ")\n",
    "fig7.update_traces(marker=dict(line=dict(color=text_color, width=1)))\n",
    "save_plot_as_html(fig7, \"revenue_by_category.html\", \"Categories such as Business and Productivity lead in revenue generation, indicating their monetization potential.\")\n",
    "\n",
    "# Genre Count Plot\n",
    "genre_counts = app_df['Genres'].str.split(';', expand=True).stack().value_counts().nlargest(10)\n",
    "fig8 = px.bar(\n",
    "    x=genre_counts.index,\n",
    "    y=genre_counts.values,\n",
    "    labels={'x': 'Genre', 'y': 'Count'},\n",
    "    title='Top Genres',\n",
    "    color=genre_counts.index,\n",
    "    color_discrete_sequence=px.colors.sequential.OrRd,\n",
    "    width=plot_width,\n",
    "    height=plot_height\n",
    ")\n",
    "fig8.update_layout(\n",
    "    plot_bgcolor=plot_bg_color,\n",
    "    paper_bgcolor=plot_bg_color,\n",
    "    font_color=text_color,\n",
    "    title_font=title_font,\n",
    "    xaxis=dict(title_font=axis_font),\n",
    "    yaxis=dict(title_font=axis_font),\n",
    "    margin=dict(l=10, r=10, t=30, b=10)\n",
    ")\n",
    "fig8.update_traces(marker=dict(line=dict(color=text_color, width=1)))\n",
    "save_plot_as_html(fig8, \"genres_counts.html\", \"Action and Casual genres are the most common, reflecting users' preference for engaging and easy-to-play games.\")\n",
    "\n",
    "# Impact of Last Update on Rating\n",
    "fig9 = px.scatter(\n",
    "    app_df,\n",
    "    x='Last Updated',\n",
    "    y='Rating',\n",
    "    color='Type',\n",
    "    title='Impact of Last Update on Rating',\n",
    "    color_discrete_sequence=px.colors.qualitative.Vivid,\n",
    "    width=plot_width,\n",
    "    height=plot_height\n",
    ")\n",
    "fig9.update_layout(\n",
    "    plot_bgcolor=plot_bg_color,\n",
    "    paper_bgcolor=plot_bg_color,\n",
    "    font_color=text_color,\n",
    "    title_font=title_font,\n",
    "    xaxis=dict(title_font=axis_font),\n",
    "    yaxis=dict(title_font=axis_font),\n",
    "    margin=dict(l=10, r=10, t=30, b=10)\n",
    ")\n",
    "save_plot_as_html(fig9, \"update_on_rating.html\", \"The scatter plot shows a weak correlation between the last update date and ratings, suggesting that more frequent updates don't always result in better ratings.\")\n",
    "\n",
    "# Ratings for Paid vs Free Apps\n",
    "fig10 = px.box(\n",
    "    app_df,\n",
    "    x='Type',\n",
    "    y='Rating',\n",
    "    color='Type',\n",
    "    title='Ratings for Paid vs Free Apps',\n",
    "    color_discrete_sequence=px.colors.qualitative.Pastel,\n",
    "    width=plot_width,\n",
    "    height=plot_height\n",
    ")\n",
    "fig10.update_layout(\n",
    "    plot_bgcolor=plot_bg_color,\n",
    "    paper_bgcolor=plot_bg_color,\n",
    "    font_color=text_color,\n",
    "    title_font=title_font,\n",
    "    xaxis=dict(title_font=axis_font),\n",
    "    yaxis=dict(title_font=axis_font),\n",
    "    margin=dict(l=10, r=10, t=30, b=10)\n",
    ")\n",
    "save_plot_as_html(fig10, \"ratings_paid_free.html\", \"Paid apps generally have higher ratings compared to free apps, suggesting that users expect higher quality from apps they pay for.\")\n",
    "\n",
    "# Split plot_containers to handle the last plot properly\n",
    "plot_containers_split = plot_containers.split('</div>')\n",
    "if len(plot_containers_split) > 1:\n",
    "    final_plot = plot_containers_split[-2] + '</div>'\n",
    "else:\n",
    "    final_plot = plot_containers  # Use plot_containers as default if splitting isn't sufficient\n"
   ]
  },
  {
   "cell_type": "code",
   "execution_count": 42,
   "metadata": {},
   "outputs": [
    {
     "data": {
      "text/plain": [
       "True"
      ]
     },
     "execution_count": 42,
     "metadata": {},
     "output_type": "execute_result"
    }
   ],
   "source": [
    "# Define your HTML template string\n",
    "dashboard_html = \"\"\"\n",
    "<!DOCTYPE html>\n",
    "<html lang=\"en\">\n",
    "<head>\n",
    "    <meta charset=\"UTF-8\">\n",
    "    <meta name=\"viewport\" content=\"width=device-width, initial-scale=1.0\">\n",
    "    <title>Google Play Store Review Analytics</title>\n",
    "    <style>\n",
    "        body {{\n",
    "            font-family: Arial, sans-serif;\n",
    "            background-color: #333;\n",
    "            color: #fff;\n",
    "            margin: 0;\n",
    "            padding: 0;\n",
    "        }}\n",
    "        .header {{\n",
    "            display: flex;\n",
    "            align-items: center;\n",
    "            justify-content: center;\n",
    "            padding: 20px;\n",
    "            background-color: #444;\n",
    "        }}\n",
    "        .header img {{\n",
    "            margin: 0 10px;\n",
    "            height: 50px;\n",
    "        }}\n",
    "        .container {{\n",
    "            display: flex;\n",
    "            flex-wrap: wrap;\n",
    "            justify-content: center;\n",
    "            padding: 20px;\n",
    "        }}\n",
    "        .plot-container {{\n",
    "            border: 2px solid #555;\n",
    "            margin: 10px;\n",
    "            padding: 10px;\n",
    "            width: {plot_width}px;\n",
    "            height: {plot_height}px;\n",
    "            overflow: hidden;\n",
    "            position: relative;\n",
    "            cursor: pointer;\n",
    "        }}\n",
    "        .insights {{\n",
    "            display: none;\n",
    "            position: absolute;\n",
    "            right: 10px;\n",
    "            top: 10px;\n",
    "            background-color: rgba(0,0,0,0.7);\n",
    "            padding: 5px;\n",
    "            border-radius: 5px;\n",
    "            color: #fff;\n",
    "        }}\n",
    "        .plot-container:hover .insights {{\n",
    "            display: block;\n",
    "        }}\n",
    "    </style>\n",
    "    <script>\n",
    "        function openPlot(filename) {{\n",
    "            window.open(filename, '_blank');\n",
    "        }}\n",
    "    </script>\n",
    "</head>\n",
    "<body>\n",
    "    <div class=\"header\">\n",
    "        <img src=\"https://upload.wikimedia.org/wikipedia/commons/thumb/4/4a/Logo_2013_Google.png/800px-Logo_2013_Google.png\" alt=\"Google Logo\">\n",
    "        <h1>Google Play Store Reviews Analytics</h1>\n",
    "        <img src=\"https://upload.wikimedia.org/wikipedia/commons/thumb/7/78/Google_Play_Store_badge_EN.svg/1024px-Google_Play_Store_badge_EN.svg.png\" alt=\"Google Play Store Logo\">\n",
    "    </div>\n",
    "    <div class=\"container\">\n",
    "        {plots}\n",
    "    </div>\n",
    "</body>\n",
    "</html>\n",
    "\"\"\"\n",
    "\n",
    "\n",
    "final_html=\"C:/Users/User/Desktop/google/dashboard.html\"\n",
    "# Format it with your dynamic variables\n",
    "final_html = dashboard_html.format(plots=plot_containers, plot_width=plot_width, plot_height=plot_height)\n",
    "\n",
    "# Save it to file\n",
    "dashboard_path = os.path.join(html_files_path, \"dashboard.html\")\n",
    "with open(dashboard_path, \"w\", encoding=\"utf-8\") as f:\n",
    "    f.write(final_html)\n",
    "\n",
    "# Open in browser\n",
    "import webbrowser, os\n",
    "webbrowser.open('file://' + os.path.realpath(dashboard_path))"
   ]
  },
  {
   "attachments": {},
   "cell_type": "markdown",
   "metadata": {},
   "source": [
    "INTERNSHIP TASKS:-"
   ]
  },
  {
   "attachments": {},
   "cell_type": "markdown",
   "metadata": {},
   "source": [
    "TASK 1:-"
   ]
  },
  {
   "cell_type": "code",
   "execution_count": 45,
   "metadata": {},
   "outputs": [
    {
     "name": "stdout",
     "output_type": "stream",
     "text": [
      " Task 1 saved: C:\\Users\\madha\\task_html_files\\task1_grouped_bar.html\n"
     ]
    }
   ],
   "source": [
    "import datetime\n",
    "import pytz\n",
    "import plotly.graph_objects as go\n",
    "\n",
    "# Function to check if current time is within a given IST time range\n",
    "def is_between_ist(start_hour, end_hour):\n",
    "    ist = pytz.timezone('Asia/Kolkata')\n",
    "    now_ist = datetime.datetime.now(ist)\n",
    "    return start_hour <= now_ist.hour < end_hour\n",
    "\n",
    "if is_between_ist(15, 17):  # Between 3 PM and 5 PM IST\n",
    "\n",
    "    # Apply filters\n",
    "    filtered = app_df[\n",
    "        (app_df['Rating'] >= 4.0) &\n",
    "        (app_df['Size'] >= 10 * 1024 * 1024) &  # 10 MB in bytes\n",
    "        (app_df['Last Updated'].dt.month == 1)  # Only January\n",
    "    ]\n",
    "\n",
    "    if not filtered.empty:\n",
    "        # Identify top 10 categories by total installs\n",
    "        top_categories = (\n",
    "            filtered.groupby('Category')['Installs'].sum()\n",
    "            .nlargest(10).index\n",
    "        )\n",
    "        top_data = filtered[filtered['Category'].isin(top_categories)]\n",
    "\n",
    "        # Compute metrics\n",
    "        grouped = top_data.groupby('Category').agg({\n",
    "            'Rating': 'mean',\n",
    "            'Reviews': 'sum'\n",
    "        }).reset_index()\n",
    "\n",
    "        # Create grouped bar chart\n",
    "        fig1 = go.Figure()\n",
    "\n",
    "        fig1.add_trace(go.Bar(\n",
    "            x=grouped['Category'],\n",
    "            y=grouped['Rating'],\n",
    "            name='Average Rating',\n",
    "            marker_color='steelblue'\n",
    "        ))\n",
    "\n",
    "        fig1.add_trace(go.Bar(\n",
    "            x=grouped['Category'],\n",
    "            y=grouped['Reviews'],\n",
    "            name='Total Reviews',\n",
    "            marker_color='darkorange'\n",
    "        ))\n",
    "\n",
    "        fig1.update_layout(\n",
    "            title=\"Top 10 Categories: Avg Rating vs Total Reviews (Filtered)\",\n",
    "            xaxis_title=\"App Category\",\n",
    "            yaxis_title=\"Value\",\n",
    "            barmode='group',\n",
    "            plot_bgcolor=plot_bg_color,\n",
    "            paper_bgcolor=plot_bg_color,\n",
    "            font=dict(color=text_color),\n",
    "            margin=dict(l=10, r=10, t=50, b=40)\n",
    "        )\n",
    "\n",
    "        save_plot_as_html(\n",
    "            fig1,\n",
    "            \"task1_grouped_bar.html\",\n",
    "            \"This chart compares average ratings and total reviews for the top 10 categories (filtered by high ratings, size ≥10MB, and updated in January).\"\n",
    "        )\n",
    "task_html_files_path = os.path.join(os.getcwd(), \"task_html_files\")\n",
    "os.makedirs(task_html_files_path, exist_ok=True)\n",
    "\n",
    "fig1.write_html(\n",
    "    os.path.join(task_html_files_path, \"task1_grouped_bar.html\"),\n",
    "    full_html=False,\n",
    "    include_plotlyjs=\"cdn\"\n",
    ")\n",
    "save_path = os.path.join(task_html_files_path, \"task1_grouped_bar.html\")\n",
    "fig1.write_html(save_path, full_html=False, include_plotlyjs='cdn')\n",
    "print(f\" Task 1 saved: {save_path}\")\n",
    "\n"
   ]
  },
  {
   "attachments": {},
   "cell_type": "markdown",
   "metadata": {},
   "source": [
    "TASK 2:-"
   ]
  },
  {
   "cell_type": "code",
   "execution_count": 47,
   "metadata": {},
   "outputs": [
    {
     "name": "stdout",
     "output_type": "stream",
     "text": [
      " Task 2 saved: C:\\Users\\madha\\task_html_files\\task2_choropleth_map.html\n"
     ]
    }
   ],
   "source": [
    "if is_between_ist(18, 20):  # 6 PM to 8 PM IST\n",
    "    import plotly.express as px\n",
    "\n",
    "    # Filter out unwanted categories\n",
    "    valid_categories = app_df[~app_df['Category'].str.startswith(('A', 'C', 'G', 'S'))]\n",
    "\n",
    "    # Get top 5 by total installs\n",
    "    top5_categories = valid_categories.groupby('Category')['Installs'].sum().nlargest(5).index\n",
    "    top5_df = valid_categories[valid_categories['Category'].isin(top5_categories)].copy()\n",
    "\n",
    "    # Assign random or mock countries if real ones aren't present\n",
    "    # In real case, replace with actual `Country` column\n",
    "    country_mapping = ['US', 'IN', 'BR', 'GB', 'CA']  # Example countries\n",
    "    top5_df['Country'] = [country_mapping[i % len(country_mapping)] for i in range(len(top5_df))]\n",
    "\n",
    "    # Aggregate installs by country-category\n",
    "    category_country_installs = top5_df.groupby(['Country', 'Category'])['Installs'].sum().reset_index()\n",
    "\n",
    "    # Plot Choropleth map\n",
    "    fig2 = px.choropleth(\n",
    "        category_country_installs,\n",
    "        locations='Country',\n",
    "        color='Installs',\n",
    "        hover_name='Category',\n",
    "        color_continuous_scale='Viridis',\n",
    "        title='Global Installs by Category (Top 5 Only)',\n",
    "    )\n",
    "\n",
    "    fig2.update_layout(\n",
    "        plot_bgcolor=plot_bg_color,\n",
    "        paper_bgcolor=plot_bg_color,\n",
    "        font=dict(color=text_color),\n",
    "        margin=dict(l=10, r=10, t=40, b=10)\n",
    "    )\n",
    "\n",
    "    # Save plot to HTML\n",
    "    save_plot_as_html(\n",
    "        fig2,\n",
    "        \"choropleth_top5.html\",\n",
    "        \"Top 5 app categories by installs (excluding A, C, G, S). Countries with high installs are highlighted.\"\n",
    "    )\n",
    "save_path = os.path.join(task_html_files_path, \"task2_choropleth_map.html\")\n",
    "fig2.write_html(save_path, full_html=False, include_plotlyjs='cdn')\n",
    "print(f\" Task 2 saved: {save_path}\")\n"
   ]
  },
  {
   "attachments": {},
   "cell_type": "markdown",
   "metadata": {},
   "source": [
    "TASK 3:-"
   ]
  },
  {
   "cell_type": "code",
   "execution_count": 48,
   "metadata": {},
   "outputs": [
    {
     "name": "stdout",
     "output_type": "stream",
     "text": [
      " Task 3 saved: C:\\Users\\madha\\task_html_files\\task3_dual_axis_free_vs_paid.html\n"
     ]
    }
   ],
   "source": [
    "if is_between_ist(13, 14):  # 1 PM to 2 PM IST\n",
    "    filtered = app_df[\n",
    "        (app_df['Installs'] >= 10000) &\n",
    "        (app_df['Price'] * app_df['Installs'] >= 10000) &\n",
    "        (app_df['Android Ver'].str.extract(r'(\\d+\\.\\d+)').astype(float).fillna(0)[0] > 4.0) &\n",
    "        (app_df['Size'] >= 15 * 1024 * 1024) &\n",
    "        (app_df['Content Rating'] == 'Everyone') &\n",
    "        (app_df['App'].str.len() <= 30)\n",
    "    ].copy()\n",
    "\n",
    "    # Calculate revenue\n",
    "    filtered['Revenue'] = filtered['Price'] * filtered['Installs']\n",
    "\n",
    "    # Get top 3 categories by installs\n",
    "    top3_cats = filtered.groupby('Category')['Installs'].sum().nlargest(3).index\n",
    "    top3_df = filtered[filtered['Category'].isin(top3_cats)]\n",
    "\n",
    "    # Group by Type and Category\n",
    "    agg = top3_df.groupby(['Category', 'Type']).agg({\n",
    "        'Installs': 'mean',\n",
    "        'Revenue': 'mean'\n",
    "    }).reset_index()\n",
    "\n",
    "    # Pivot for dual-axis\n",
    "    fig4 = px.bar(\n",
    "        agg,\n",
    "        x='Category',\n",
    "        y='Installs',\n",
    "        color='Type',\n",
    "        barmode='group',\n",
    "        labels={'Installs': 'Average Installs'},\n",
    "        title='Average Installs and Revenue for Free vs Paid Apps (Top 3 Categories)'\n",
    "    )\n",
    "\n",
    "    # Add revenue as secondary y-axis\n",
    "    for typ in agg['Type'].unique():\n",
    "        sub = agg[agg['Type'] == typ]\n",
    "        fig3.add_scatter(\n",
    "            x=sub['Category'],\n",
    "            y=sub['Revenue'],\n",
    "            mode='lines+markers',\n",
    "            name=f'Revenue ({typ})',\n",
    "            yaxis='y2'\n",
    "        )\n",
    "\n",
    "    fig3.update_layout(\n",
    "        yaxis=dict(title='Avg Installs'),\n",
    "        yaxis2=dict(title='Avg Revenue', overlaying='y', side='right'),\n",
    "        plot_bgcolor=plot_bg_color,\n",
    "        paper_bgcolor=plot_bg_color,\n",
    "        font=dict(color=text_color),\n",
    "        margin=dict(l=10, r=10, t=40, b=10)\n",
    "    )\n",
    "\n",
    "    # Save plot\n",
    "    save_plot_as_html(\n",
    "        fig3,\n",
    "        \"dual_axis_free_vs_paid.html\",\n",
    "        \"Comparison of average installs and revenue for Free vs Paid apps in top 3 categories.\"\n",
    "    )\n",
    "save_path = os.path.join(task_html_files_path, \"task3_dual_axis_free_vs_paid.html\")\n",
    "fig3.write_html(save_path, full_html=False, include_plotlyjs='cdn')\n",
    "print(f\" Task 3 saved: {save_path}\")"
   ]
  },
  {
   "attachments": {},
   "cell_type": "markdown",
   "metadata": {},
   "source": [
    "TASK 4:-"
   ]
  },
  {
   "cell_type": "code",
   "execution_count": 49,
   "metadata": {},
   "outputs": [
    {
     "name": "stdout",
     "output_type": "stream",
     "text": [
      " Task 4 saved: C:\\Users\\madha\\task_html_files\\task4_time_series_installs.html\n"
     ]
    }
   ],
   "source": [
    "if is_between_ist(18, 21):  # 6 PM to 9 PM IST\n",
    "    # Step 1: Filter data\n",
    "    filtered = app_df[\n",
    "        (app_df['Content Rating'] == 'Teen') &\n",
    "        (app_df['App'].str.startswith('E')) &\n",
    "        (app_df['Installs'] > 10_000)\n",
    "    ].copy()\n",
    "\n",
    "    # Step 2: Extract month-year from 'Last Updated' for time trend\n",
    "    filtered['Month'] = filtered['Last Updated'].dt.to_period('M').dt.to_timestamp()\n",
    "\n",
    "    # Step 3: Group and aggregate installs by Category & Month\n",
    "    trend_df = filtered.groupby(['Category', 'Month'])['Installs'].sum().reset_index()\n",
    "\n",
    "    # Step 4: Calculate MoM % growth\n",
    "    trend_df['MoM_Growth'] = trend_df.groupby('Category')['Installs'].pct_change() * 100\n",
    "\n",
    "    # Step 5: Create line plot with shaded area for MoM growth > 20%\n",
    "    fig7 = px.line(\n",
    "        trend_df,\n",
    "        x='Month',\n",
    "        y='Installs',\n",
    "        color='Category',\n",
    "        title='Monthly Install Trends by Category (Teen, Apps starting with E)'\n",
    "    )\n",
    "\n",
    "    # Highlight significant growth\n",
    "    for category in trend_df['Category'].unique():\n",
    "        cat_data = trend_df[trend_df['Category'] == category]\n",
    "        growth_periods = cat_data[cat_data['MoM_Growth'] > 20]\n",
    "\n",
    "        fig7.add_scatter(\n",
    "            x=growth_periods['Month'],\n",
    "            y=growth_periods['Installs'],\n",
    "            mode='markers',\n",
    "            marker=dict(size=8, color='orange', symbol='circle'),\n",
    "            name=f'Significant Growth ({category})',\n",
    "            showlegend=False\n",
    "        )\n",
    "\n",
    "    fig7.update_layout(\n",
    "        plot_bgcolor=plot_bg_color,\n",
    "        paper_bgcolor=plot_bg_color,\n",
    "        font=dict(color=text_color),\n",
    "        margin=dict(l=10, r=10, t=40, b=10)\n",
    "    )\n",
    "\n",
    "    # Save it\n",
    "    save_plot_as_html(\n",
    "        fig4,\n",
    "        \"install_trend_line_chart.html\",\n",
    "        \"This chart visualizes monthly installs for Teen-rated apps starting with 'E'. Orange dots highlight >20% month-over-month growth.\"\n",
    "    )\n",
    "save_path = os.path.join(task_html_files_path, \"task4_time_series_installs.html\")\n",
    "fig4.write_html(save_path, full_html=False, include_plotlyjs='cdn')\n",
    "print(f\" Task 4 saved: {save_path}\")\n"
   ]
  },
  {
   "cell_type": "markdown",
   "metadata": {},
   "source": [
    "Task 5"
   ]
  },
  {
   "cell_type": "code",
   "execution_count": 51,
   "metadata": {},
   "outputs": [
    {
     "name": "stdout",
     "output_type": "stream",
     "text": [
      "⏳ Task 5 chart is only available between 5 PM and 7 PM IST.\n"
     ]
    }
   ],
   "source": [
    "# Task 5: Bubble Chart\n",
    "if is_between_ist(17, 19):  # 5 PM to 7 PM IST\n",
    "    filtered = app_df[\n",
    "        (app_df['Rating'] > 3.5) &\n",
    "        (app_df['Category'].isin(['GAME', 'BEAUTY', 'BUSINESS', 'COMICS', \n",
    "                                  'COMMUNICATION', 'DATING', 'ENTERTAINMENT', \n",
    "                                  'SOCIAL', 'EVENT'])) &\n",
    "        (app_df['Reviews'].astype(int) > 500) &\n",
    "        (~app_df['App'].str.contains(\"S\", case=False, na=False)) &\n",
    "        (app_df['Sentiment_Subjectivity'] > 0.5) &\n",
    "        (app_df['Installs'] > 50000)\n",
    "    ].copy()\n",
    "\n",
    "    # Translate category labels\n",
    "    translation_map = {\n",
    "        \"BEAUTY\": \"सौंदर्य\",      # Hindi\n",
    "        \"BUSINESS\": \"வணிகம்\",   # Tamil\n",
    "        \"DATING\": \"Dating (Deutsch)\"  # German\n",
    "    }\n",
    "    filtered[\"Category_Display\"] = filtered[\"Category\"].replace(translation_map)\n",
    "\n",
    "    # Bubble chart\n",
    "    fig5 = px.scatter(\n",
    "        filtered,\n",
    "        x=\"Size\",  # assuming Size is already in MB\n",
    "        y=\"Rating\",\n",
    "        size=\"Installs\",\n",
    "        color=\"Category_Display\",\n",
    "        hover_name=\"App\",\n",
    "        title=\"Bubble Chart: Size vs Rating with Installs as Bubble Size\",\n",
    "        labels={\"Size\": \"App Size (MB)\", \"Rating\": \"Average Rating\"}\n",
    "    )\n",
    "\n",
    "    # Highlight GAME category in Pink\n",
    "    fig5.for_each_trace(\n",
    "        lambda trace: trace.update(marker=dict(color=\"pink\"))\n",
    "        if \"GAME\" in trace.name else ()\n",
    "    )\n",
    "\n",
    "    # Layout adjustments\n",
    "    fig5.update_layout(\n",
    "        plot_bgcolor=plot_bg_color,\n",
    "        paper_bgcolor=plot_bg_color,\n",
    "        font=dict(color=text_color),\n",
    "        margin=dict(l=10, r=10, t=40, b=10)\n",
    "    )\n",
    "\n",
    "    # Save plot\n",
    "    save_path = os.path.join(task_html_files_path, \"task5_bubble_chart.html\")\n",
    "    fig5.write_html(save_path, full_html=False, include_plotlyjs=\"cdn\")\n",
    "    print(f\"✅ Task 5 saved: {save_path}\")\n",
    "\n",
    "else:\n",
    "    print(\"⏳ Task 5 chart is only available between 5 PM and 7 PM IST.\")"
   ]
  },
  {
   "cell_type": "code",
   "execution_count": null,
   "metadata": {},
   "outputs": [],
   "source": []
  }
 ],
 "metadata": {
  "kernelspec": {
   "display_name": "Python 3 (ipykernel)",
   "language": "python",
   "name": "python3"
  },
  "language_info": {
   "codemirror_mode": {
    "name": "ipython",
    "version": 3
   },
   "file_extension": ".py",
   "mimetype": "text/x-python",
   "name": "python",
   "nbconvert_exporter": "python",
   "pygments_lexer": "ipython3",
   "version": "3.12.8"
  }
 },
 "nbformat": 4,
 "nbformat_minor": 4
}
